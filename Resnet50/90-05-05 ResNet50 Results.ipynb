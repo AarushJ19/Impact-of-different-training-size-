{
  "nbformat": 4,
  "nbformat_minor": 0,
  "metadata": {
    "colab": {
      "provenance": [],
      "gpuType": "T4"
    },
    "kernelspec": {
      "name": "python3",
      "display_name": "Python 3"
    },
    "language_info": {
      "name": "python"
    },
    "accelerator": "GPU"
  },
  "cells": [
    {
      "cell_type": "code",
      "execution_count": 1,
      "metadata": {
        "id": "BBKQ7umVE6Tr",
        "colab": {
          "base_uri": "https://localhost:8080/",
          "height": 0
        },
        "outputId": "6b3a9fac-5ddc-44ea-9032-307f7b5b4588"
      },
      "outputs": [
        {
          "output_type": "stream",
          "name": "stdout",
          "text": [
            "Mounted at /content/drive\n"
          ]
        }
      ],
      "source": [
        "# Mount Google Drive to access the dataset stored in 'eye_diseases' folder\n",
        "from google.colab import drive\n",
        "drive.mount('/content/drive')\n",
        "\n",
        "# Import necessary libraries\n",
        "import tensorflow as tf\n",
        "from tensorflow.keras.preprocessing.image import ImageDataGenerator\n",
        "from tensorflow.keras.applications import ResNet50\n",
        "from tensorflow.keras.layers import Dense, GlobalAveragePooling2D\n",
        "from tensorflow.keras.models import Model\n",
        "from tensorflow.keras.optimizers import Adam\n",
        "from tensorflow.keras.callbacks import EarlyStopping\n",
        "import matplotlib.pyplot as plt\n",
        "from sklearn.metrics import classification_report, confusion_matrix\n",
        "import numpy as np\n"
      ]
    },
    {
      "cell_type": "code",
      "source": [
        "from google.colab import drive\n",
        "drive.mount('/content/drive')"
      ],
      "metadata": {
        "colab": {
          "base_uri": "https://localhost:8080/",
          "height": 0
        },
        "id": "VTBL2gqtf64u",
        "outputId": "7878381f-015e-4737-df8f-c655f861607a"
      },
      "execution_count": 4,
      "outputs": [
        {
          "output_type": "stream",
          "name": "stdout",
          "text": [
            "Drive already mounted at /content/drive; to attempt to forcibly remount, call drive.mount(\"/content/drive\", force_remount=True).\n"
          ]
        }
      ]
    },
    {
      "cell_type": "code",
      "source": [
        "# Path to the dataset in Google Drive\n",
        "data_dir = '/content/drive/MyDrive/Dataset/dataset'\n",
        "\n",
        "# Define ImageDataGenerators for training, validation, and test sets\n",
        "# Data augmentation for training: rotation, zoom, and flip\n",
        "# Train/Validation split: 80% train, 20% validation of 80% split\n",
        "train_datagen = ImageDataGenerator(\n",
        "    rescale=1./255,\n",
        "    shear_range=0.2,\n",
        "    zoom_range=0.2,\n",
        "    horizontal_flip=True,\n",
        "    validation_split=0.05  # 95% for training, 5% for validation of the total 90%\n",
        ")\n",
        "\n",
        "# Test set does not require augmentation, only rescaling\n",
        "test_datagen = ImageDataGenerator(rescale=1./255)"
      ],
      "metadata": {
        "id": "tbF2kMyjFK8q"
      },
      "execution_count": 5,
      "outputs": []
    },
    {
      "cell_type": "code",
      "source": [
        "# Training generator (90% of the data)\n",
        "train_generator = train_datagen.flow_from_directory(\n",
        "    data_dir,\n",
        "    target_size=(224, 224),\n",
        "    batch_size=32,\n",
        "    class_mode='categorical',\n",
        "    subset='training'  # Training data (50% of 40%)\n",
        ")\n",
        "\n",
        "# Validation generator (5% of the data)\n",
        "validation_generator = train_datagen.flow_from_directory(\n",
        "    data_dir,\n",
        "    target_size=(224, 224),\n",
        "    batch_size=32,\n",
        "    class_mode='categorical',\n",
        "    subset='validation'  # Validation data (50% of 20%)\n",
        ")\n",
        "\n",
        "# Test generator (5% of the data)\n",
        "test_generator = test_datagen.flow_from_directory(\n",
        "    data_dir,\n",
        "    target_size=(224, 224),\n",
        "    batch_size=32,\n",
        "    class_mode='categorical',\n",
        "    shuffle=False  # No shuffling for test data\n",
        ")"
      ],
      "metadata": {
        "id": "Yg-7I2x-FM89",
        "colab": {
          "base_uri": "https://localhost:8080/",
          "height": 0
        },
        "outputId": "5643d828-efe5-4aa4-cadd-38ad58f6de10"
      },
      "execution_count": 6,
      "outputs": [
        {
          "output_type": "stream",
          "name": "stdout",
          "text": [
            "Found 4009 images belonging to 4 classes.\n",
            "Found 208 images belonging to 4 classes.\n",
            "Found 4217 images belonging to 4 classes.\n"
          ]
        }
      ]
    },
    {
      "cell_type": "code",
      "source": [
        "# Load ResNet50 model pre-trained on ImageNet, without the top layer (include_top=False)\n",
        "base_model = ResNet50(weights='imagenet', include_top=False, input_shape=(224, 224, 3))\n",
        "\n",
        "# Add custom top layers for our 4-class problem\n",
        "x = base_model.output\n",
        "x = GlobalAveragePooling2D()(x)  # Global average pooling instead of flattening\n",
        "x = Dense(1024, activation='relu')(x)  # Fully connected layer with ReLU activation\n",
        "predictions = Dense(4, activation='softmax')(x)  # Output layer for 4 classes with softmax\n",
        "\n",
        "# Create the final model by combining the base and custom layers\n",
        "model = Model(inputs=base_model.input, outputs=predictions)\n"
      ],
      "metadata": {
        "id": "tknVpLgkFOe5",
        "colab": {
          "base_uri": "https://localhost:8080/",
          "height": 0
        },
        "outputId": "b58e51e5-bc97-4e65-992d-cad691d51de8"
      },
      "execution_count": 7,
      "outputs": [
        {
          "output_type": "stream",
          "name": "stdout",
          "text": [
            "Downloading data from https://storage.googleapis.com/tensorflow/keras-applications/resnet/resnet50_weights_tf_dim_ordering_tf_kernels_notop.h5\n",
            "\u001b[1m94765736/94765736\u001b[0m \u001b[32m━━━━━━━━━━━━━━━━━━━━\u001b[0m\u001b[37m\u001b[0m \u001b[1m5s\u001b[0m 0us/step\n"
          ]
        }
      ]
    },
    {
      "cell_type": "code",
      "source": [
        "# Compile the model with Adam optimizer and a low learning rate for transfer learning\n",
        "model.compile(optimizer=Adam(learning_rate=0.0001),  # Low learning rate for fine-tuning\n",
        "              loss='categorical_crossentropy',  # Loss function for multi-class classification\n",
        "              metrics=['accuracy'])  # Track accuracy as the metric\n"
      ],
      "metadata": {
        "id": "N_MiwpXAFQBX"
      },
      "execution_count": 8,
      "outputs": []
    },
    {
      "cell_type": "code",
      "source": [
        "# Train the model\n",
        "history = model.fit(\n",
        "    train_generator,  # Training data generator\n",
        "    epochs=10,  # Number of epochs\n",
        "    validation_data=validation_generator,  # Validation data generator\n",
        "    steps_per_epoch=train_generator.samples // train_generator.batch_size,  # Steps per epoch\n",
        "    validation_steps=validation_generator.samples // validation_generator.batch_size,  # Validation steps\n",
        ")"
      ],
      "metadata": {
        "colab": {
          "base_uri": "https://localhost:8080/",
          "height": 0
        },
        "id": "vMfIUvH8FRZ8",
        "outputId": "15985661-0f30-4d9e-d582-4b26eec95046"
      },
      "execution_count": 9,
      "outputs": [
        {
          "output_type": "stream",
          "name": "stdout",
          "text": [
            "Epoch 1/10\n"
          ]
        },
        {
          "output_type": "stream",
          "name": "stderr",
          "text": [
            "/usr/local/lib/python3.10/dist-packages/keras/src/trainers/data_adapters/py_dataset_adapter.py:121: UserWarning: Your `PyDataset` class should call `super().__init__(**kwargs)` in its constructor. `**kwargs` can include `workers`, `use_multiprocessing`, `max_queue_size`. Do not pass these arguments to `fit()`, as they will be ignored.\n",
            "  self._warn_if_super_not_called()\n"
          ]
        },
        {
          "output_type": "stream",
          "name": "stdout",
          "text": [
            "\u001b[1m125/125\u001b[0m \u001b[32m━━━━━━━━━━━━━━━━━━━━\u001b[0m\u001b[37m\u001b[0m \u001b[1m2370s\u001b[0m 17s/step - accuracy: 0.7631 - loss: 0.5829 - val_accuracy: 0.2552 - val_loss: 1.6541\n",
            "Epoch 2/10\n",
            "\u001b[1m  1/125\u001b[0m \u001b[37m━━━━━━━━━━━━━━━━━━━━\u001b[0m \u001b[1m36s\u001b[0m 297ms/step - accuracy: 0.8438 - loss: 0.3432"
          ]
        },
        {
          "output_type": "stream",
          "name": "stderr",
          "text": [
            "/usr/lib/python3.10/contextlib.py:153: UserWarning: Your input ran out of data; interrupting training. Make sure that your dataset or generator can generate at least `steps_per_epoch * epochs` batches. You may need to use the `.repeat()` function when building your dataset.\n",
            "  self.gen.throw(typ, value, traceback)\n"
          ]
        },
        {
          "output_type": "stream",
          "name": "stdout",
          "text": [
            "\b\b\b\b\b\b\b\b\b\b\b\b\b\b\b\b\b\b\b\b\b\b\b\b\b\b\b\b\b\b\b\b\b\b\b\b\b\b\b\b\b\b\b\b\b\b\b\b\b\b\b\b\b\b\b\b\b\b\b\b\b\b\b\b\b\b\b\b\b\b\b\b\b\b\b\b\b\r\u001b[1m125/125\u001b[0m \u001b[32m━━━━━━━━━━━━━━━━━━━━\u001b[0m\u001b[37m\u001b[0m \u001b[1m12s\u001b[0m 92ms/step - accuracy: 0.8438 - loss: 0.3432 - val_accuracy: 0.2500 - val_loss: 1.6306\n",
            "Epoch 3/10\n",
            "\u001b[1m125/125\u001b[0m \u001b[32m━━━━━━━━━━━━━━━━━━━━\u001b[0m\u001b[37m\u001b[0m \u001b[1m111s\u001b[0m 739ms/step - accuracy: 0.9150 - loss: 0.2316 - val_accuracy: 0.2344 - val_loss: 1.7435\n",
            "Epoch 4/10\n",
            "\u001b[1m125/125\u001b[0m \u001b[32m━━━━━━━━━━━━━━━━━━━━\u001b[0m\u001b[37m\u001b[0m \u001b[1m0s\u001b[0m 538us/step - accuracy: 0.9375 - loss: 0.1345 - val_accuracy: 0.1875 - val_loss: 1.6378\n",
            "Epoch 5/10\n",
            "\u001b[1m125/125\u001b[0m \u001b[32m━━━━━━━━━━━━━━━━━━━━\u001b[0m\u001b[37m\u001b[0m \u001b[1m139s\u001b[0m 724ms/step - accuracy: 0.9333 - loss: 0.1684 - val_accuracy: 0.2552 - val_loss: 2.6868\n",
            "Epoch 6/10\n",
            "\u001b[1m125/125\u001b[0m \u001b[32m━━━━━━━━━━━━━━━━━━━━\u001b[0m\u001b[37m\u001b[0m \u001b[1m2s\u001b[0m 16ms/step - accuracy: 1.0000 - loss: 0.0880 - val_accuracy: 0.3125 - val_loss: 3.0289\n",
            "Epoch 7/10\n",
            "\u001b[1m125/125\u001b[0m \u001b[32m━━━━━━━━━━━━━━━━━━━━\u001b[0m\u001b[37m\u001b[0m \u001b[1m138s\u001b[0m 724ms/step - accuracy: 0.9440 - loss: 0.1375 - val_accuracy: 0.4219 - val_loss: 1.7573\n",
            "Epoch 8/10\n",
            "\u001b[1m125/125\u001b[0m \u001b[32m━━━━━━━━━━━━━━━━━━━━\u001b[0m\u001b[37m\u001b[0m \u001b[1m0s\u001b[0m 1ms/step - accuracy: 0.8889 - loss: 0.6048 - val_accuracy: 0.4375 - val_loss: 2.1105\n",
            "Epoch 9/10\n",
            "\u001b[1m125/125\u001b[0m \u001b[32m━━━━━━━━━━━━━━━━━━━━\u001b[0m\u001b[37m\u001b[0m \u001b[1m100s\u001b[0m 755ms/step - accuracy: 0.9582 - loss: 0.1173 - val_accuracy: 0.2812 - val_loss: 3.5674\n",
            "Epoch 10/10\n",
            "\u001b[1m125/125\u001b[0m \u001b[32m━━━━━━━━━━━━━━━━━━━━\u001b[0m\u001b[37m\u001b[0m \u001b[1m2s\u001b[0m 13ms/step - accuracy: 0.9688 - loss: 0.1024 - val_accuracy: 0.3125 - val_loss: 3.4943\n"
          ]
        }
      ]
    },
    {
      "cell_type": "code",
      "source": [
        "# Evaluate the model on the test set and print test accuracy\n",
        "test_loss, test_accuracy = model.evaluate(test_generator, steps=test_generator.samples // test_generator.batch_size)\n",
        "print(f'Test Accuracy: {test_accuracy * 100:.2f}%')\n"
      ],
      "metadata": {
        "id": "PO1CLxMwFSwv",
        "colab": {
          "base_uri": "https://localhost:8080/",
          "height": 0
        },
        "outputId": "24798d6c-7ffa-46fd-e472-f4ea2ab77d32"
      },
      "execution_count": 10,
      "outputs": [
        {
          "output_type": "stream",
          "name": "stdout",
          "text": [
            "\u001b[1m131/131\u001b[0m \u001b[32m━━━━━━━━━━━━━━━━━━━━\u001b[0m\u001b[37m\u001b[0m \u001b[1m42s\u001b[0m 320ms/step - accuracy: 0.6126 - loss: 2.0484\n",
            "Test Accuracy: 27.31%\n"
          ]
        }
      ]
    },
    {
      "cell_type": "code",
      "source": [
        "# Plot training and validation accuracy and loss curves\n",
        "plt.figure(figsize=(12, 6))\n",
        "\n",
        "# Plot training and validation accuracy\n",
        "plt.subplot(1, 2, 1)\n",
        "plt.plot(history.history['accuracy'], label='Train Accuracy')\n",
        "plt.plot(history.history['val_accuracy'], label='Validation Accuracy')\n",
        "plt.title('Model Accuracy')\n",
        "plt.xlabel('Epochs')\n",
        "plt.ylabel('Accuracy')\n",
        "plt.legend()\n",
        "\n",
        "# Plot training and validation loss\n",
        "plt.subplot(1, 2, 2)\n",
        "plt.plot(history.history['loss'], label='Train Loss')\n",
        "plt.plot(history.history['val_loss'], label='Validation Loss')\n",
        "plt.title('Model Loss')\n",
        "plt.xlabel('Epochs')\n",
        "plt.ylabel('Loss')\n",
        "plt.legend()\n",
        "\n",
        "plt.show()\n"
      ],
      "metadata": {
        "id": "HzsAjNTfFUJd",
        "colab": {
          "base_uri": "https://localhost:8080/",
          "height": 481
        },
        "outputId": "a2645f6e-aa9b-4c18-faf5-c3ea1d0033df"
      },
      "execution_count": 11,
      "outputs": [
        {
          "output_type": "display_data",
          "data": {
            "text/plain": [
              "<Figure size 1200x600 with 2 Axes>"
            ],
            "image/png": "[encoded data removed]"
          },
          "metadata": {}
        }
      ]
    },
    {
      "cell_type": "code",
      "source": [
        "# Predict on test data\n",
        "Y_pred = model.predict(test_generator, steps=test_generator.samples // test_generator.batch_size + 1)\n",
        "y_pred = np.argmax(Y_pred, axis=1)  # Convert predicted probabilities to class labels\n",
        "\n",
        "# Get true labels\n",
        "true_classes = test_generator.classes\n",
        "class_labels = list(test_generator.class_indices.keys())  # Get class names\n",
        "\n",
        "# Classification report\n",
        "print('Classification Report')\n",
        "print(classification_report(true_classes, y_pred, target_names=class_labels))\n",
        "\n",
        "# Confusion matrix\n",
        "print('Confusion Matrix')\n",
        "print(confusion_matrix(true_classes, y_pred))\n"
      ],
      "metadata": {
        "id": "kdbsLqUWFVvE",
        "colab": {
          "base_uri": "https://localhost:8080/",
          "height": 0
        },
        "outputId": "3bb0baf1-ec1a-418b-ea1d-dc9d91bc8f37"
      },
      "execution_count": 12,
      "outputs": [
        {
          "output_type": "stream",
          "name": "stdout",
          "text": [
            "\u001b[1m132/132\u001b[0m \u001b[32m━━━━━━━━━━━━━━━━━━━━\u001b[0m\u001b[37m\u001b[0m \u001b[1m48s\u001b[0m 344ms/step\n",
            "Classification Report\n",
            "                      precision    recall  f1-score   support\n",
            "\n",
            "            cataract       0.25      1.00      0.40      1038\n",
            "diabetic_retinopathy       0.91      0.10      0.18      1098\n",
            "            glaucoma       0.00      0.00      0.00      1007\n",
            "              normal       0.00      0.00      0.00      1074\n",
            "\n",
            "            accuracy                           0.27      4217\n",
            "           macro avg       0.29      0.27      0.15      4217\n",
            "        weighted avg       0.30      0.27      0.15      4217\n",
            "\n",
            "Confusion Matrix\n",
            "[[1038    0    0    0]\n",
            " [ 991  107    0    0]\n",
            " [1002    5    0    0]\n",
            " [1068    6    0    0]]\n"
          ]
        },
        {
          "output_type": "stream",
          "name": "stderr",
          "text": [
            "/usr/local/lib/python3.10/dist-packages/sklearn/metrics/_classification.py:1471: UndefinedMetricWarning: Precision and F-score are ill-defined and being set to 0.0 in labels with no predicted samples. Use `zero_division` parameter to control this behavior.\n",
            "  _warn_prf(average, modifier, msg_start, len(result))\n",
            "/usr/local/lib/python3.10/dist-packages/sklearn/metrics/_classification.py:1471: UndefinedMetricWarning: Precision and F-score are ill-defined and being set to 0.0 in labels with no predicted samples. Use `zero_division` parameter to control this behavior.\n",
            "  _warn_prf(average, modifier, msg_start, len(result))\n",
            "/usr/local/lib/python3.10/dist-packages/sklearn/metrics/_classification.py:1471: UndefinedMetricWarning: Precision and F-score are ill-defined and being set to 0.0 in labels with no predicted samples. Use `zero_division` parameter to control this behavior.\n",
            "  _warn_prf(average, modifier, msg_start, len(result))\n"
          ]
        }
      ]
    },
    {
      "cell_type": "code",
      "source": [
        "from sklearn.metrics import classification_report, confusion_matrix\n",
        "\n",
        "# Predict on the test data\n",
        "Y_pred = model.predict(test_generator, steps=test_generator.samples // test_generator.batch_size + 1)\n",
        "y_pred = np.argmax(Y_pred, axis=1)  # Convert predicted probabilities to class labels\n",
        "\n",
        "# Get true labels\n",
        "true_classes = test_generator.classes\n",
        "class_labels = list(test_generator.class_indices.keys())  # Get class names\n",
        "\n",
        "# Generate classification report for Precision, Recall, F1-score, and Support\n",
        "print('Classification Report:')\n",
        "print(classification_report(true_classes, y_pred, target_names=class_labels))\n",
        "\n",
        "# Generate confusion matrix for additional insights\n",
        "print('Confusion Matrix:')\n",
        "print(confusion_matrix(true_classes, y_pred))\n"
      ],
      "metadata": {
        "id": "uWN5qqGxbL-V",
        "colab": {
          "base_uri": "https://localhost:8080/",
          "height": 0
        },
        "outputId": "9861bb8a-c121-4023-ebaa-23eb3473fd70"
      },
      "execution_count": 13,
      "outputs": [
        {
          "output_type": "stream",
          "name": "stdout",
          "text": [
            "\u001b[1m132/132\u001b[0m \u001b[32m━━━━━━━━━━━━━━━━━━━━\u001b[0m\u001b[37m\u001b[0m \u001b[1m40s\u001b[0m 304ms/step\n",
            "Classification Report:\n",
            "                      precision    recall  f1-score   support\n",
            "\n",
            "            cataract       0.25      1.00      0.40      1038\n",
            "diabetic_retinopathy       0.91      0.10      0.18      1098\n",
            "            glaucoma       0.00      0.00      0.00      1007\n",
            "              normal       0.00      0.00      0.00      1074\n",
            "\n",
            "            accuracy                           0.27      4217\n",
            "           macro avg       0.29      0.27      0.15      4217\n",
            "        weighted avg       0.30      0.27      0.15      4217\n",
            "\n",
            "Confusion Matrix:\n",
            "[[1038    0    0    0]\n",
            " [ 991  107    0    0]\n",
            " [1002    5    0    0]\n",
            " [1068    6    0    0]]\n"
          ]
        },
        {
          "output_type": "stream",
          "name": "stderr",
          "text": [
            "/usr/local/lib/python3.10/dist-packages/sklearn/metrics/_classification.py:1471: UndefinedMetricWarning: Precision and F-score are ill-defined and being set to 0.0 in labels with no predicted samples. Use `zero_division` parameter to control this behavior.\n",
            "  _warn_prf(average, modifier, msg_start, len(result))\n",
            "/usr/local/lib/python3.10/dist-packages/sklearn/metrics/_classification.py:1471: UndefinedMetricWarning: Precision and F-score are ill-defined and being set to 0.0 in labels with no predicted samples. Use `zero_division` parameter to control this behavior.\n",
            "  _warn_prf(average, modifier, msg_start, len(result))\n",
            "/usr/local/lib/python3.10/dist-packages/sklearn/metrics/_classification.py:1471: UndefinedMetricWarning: Precision and F-score are ill-defined and being set to 0.0 in labels with no predicted samples. Use `zero_division` parameter to control this behavior.\n",
            "  _warn_prf(average, modifier, msg_start, len(result))\n"
          ]
        }
      ]
    },
    {
      "cell_type": "code",
      "source": [
        "from sklearn.metrics import classification_report, confusion_matrix\n",
        "\n",
        "# Predict on the test data\n",
        "Y_pred = model.predict(test_generator, steps=test_generator.samples // test_generator.batch_size + 1)\n",
        "y_pred = np.argmax(Y_pred, axis=1)  # Convert predicted probabilities to class labels\n",
        "\n",
        "# Get true labels\n",
        "true_classes = test_generator.classes\n",
        "\n",
        "# Ensure that class_labels matches the number of classes predicted by the model\n",
        "class_labels = list(test_generator.class_indices.keys())\n",
        "num_classes = len(np.unique(y_pred)) # Get the number of unique classes in the predictions\n",
        "if len(class_labels) != num_classes:\n",
        "  print(f\"WARNING: Number of classes in 'class_labels' ({len(class_labels)}) does not match the number of classes predicted by the model ({num_classes}).\\n This may lead to errors in the classification report.\")\n",
        "  # Option 1: Adjust class_labels to match the predicted classes (use with caution!)\n",
        "  # class_labels = class_labels[:num_classes]\n",
        "  # Option 2: Investigate why a class may be missing from the predictions and fix the underlying issue.\n",
        "\n",
        "\n",
        "# Generate classification report for Precision, Recall, F1-score, and Support\n",
        "print('Classification Report:')\n",
        "print(classification_report(true_classes, y_pred, target_names=class_labels))\n",
        "\n",
        "# Generate confusion matrix for additional insights\n",
        "print('Confusion Matrix:')\n",
        "print(confusion_matrix(true_classes, y_pred))"
      ],
      "metadata": {
        "colab": {
          "base_uri": "https://localhost:8080/",
          "height": 0
        },
        "id": "5SssToTqK4ml",
        "outputId": "cf38fd49-33cd-4b2f-a91b-bd22ffd7c856"
      },
      "execution_count": 14,
      "outputs": [
        {
          "output_type": "stream",
          "name": "stdout",
          "text": [
            "\u001b[1m132/132\u001b[0m \u001b[32m━━━━━━━━━━━━━━━━━━━━\u001b[0m\u001b[37m\u001b[0m \u001b[1m41s\u001b[0m 311ms/step\n",
            "WARNING: Number of classes in 'class_labels' (4) does not match the number of classes predicted by the model (2).\n",
            " This may lead to errors in the classification report.\n",
            "Classification Report:\n",
            "                      precision    recall  f1-score   support\n",
            "\n",
            "            cataract       0.25      1.00      0.40      1038\n",
            "diabetic_retinopathy       0.91      0.10      0.18      1098\n",
            "            glaucoma       0.00      0.00      0.00      1007\n",
            "              normal       0.00      0.00      0.00      1074\n",
            "\n",
            "            accuracy                           0.27      4217\n",
            "           macro avg       0.29      0.27      0.15      4217\n",
            "        weighted avg       0.30      0.27      0.15      4217\n",
            "\n",
            "Confusion Matrix:\n",
            "[[1038    0    0    0]\n",
            " [ 991  107    0    0]\n",
            " [1002    5    0    0]\n",
            " [1068    6    0    0]]\n"
          ]
        },
        {
          "output_type": "stream",
          "name": "stderr",
          "text": [
            "/usr/local/lib/python3.10/dist-packages/sklearn/metrics/_classification.py:1471: UndefinedMetricWarning: Precision and F-score are ill-defined and being set to 0.0 in labels with no predicted samples. Use `zero_division` parameter to control this behavior.\n",
            "  _warn_prf(average, modifier, msg_start, len(result))\n",
            "/usr/local/lib/python3.10/dist-packages/sklearn/metrics/_classification.py:1471: UndefinedMetricWarning: Precision and F-score are ill-defined and being set to 0.0 in labels with no predicted samples. Use `zero_division` parameter to control this behavior.\n",
            "  _warn_prf(average, modifier, msg_start, len(result))\n",
            "/usr/local/lib/python3.10/dist-packages/sklearn/metrics/_classification.py:1471: UndefinedMetricWarning: Precision and F-score are ill-defined and being set to 0.0 in labels with no predicted samples. Use `zero_division` parameter to control this behavior.\n",
            "  _warn_prf(average, modifier, msg_start, len(result))\n"
          ]
        }
      ]
    }
  ]
}