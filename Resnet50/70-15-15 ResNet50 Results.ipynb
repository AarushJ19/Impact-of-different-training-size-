{
  "cells": [
    {
      "cell_type": "code",
      "execution_count": 1,
      "metadata": {
        "colab": {
          "base_uri": "https://localhost:8080/"
        },
        "id": "sbELbykGYckA",
        "outputId": "8bd4b81c-f538-4eb7-fd12-c8dcce1a0006"
      },
      "outputs": [
        {
          "output_type": "stream",
          "name": "stdout",
          "text": [
            "Drive already mounted at /content/drive; to attempt to forcibly remount, call drive.mount(\"/content/drive\", force_remount=True).\n"
          ]
        }
      ],
      "source": [
        "from google.colab import drive\n",
        "drive.mount('/content/drive')\n",
        "\n",
        "# Import necessary libraries\n",
        "import tensorflow as tf\n",
        "from tensorflow.keras.preprocessing.image import ImageDataGenerator\n",
        "from tensorflow.keras.applications import ResNet50\n",
        "from tensorflow.keras.layers import Dense, GlobalAveragePooling2D\n",
        "from tensorflow.keras.models import Model\n",
        "from tensorflow.keras.optimizers import Adam\n",
        "from tensorflow.keras.callbacks import EarlyStopping\n",
        "import matplotlib.pyplot as plt\n",
        "from sklearn.metrics import classification_report, confusion_matrix\n",
        "import numpy as np"
      ]
    },
    {
      "cell_type": "code",
      "execution_count": 2,
      "metadata": {
        "id": "q1WmljOve8lX"
      },
      "outputs": [],
      "source": [
        "# Path to the dataset in Google Drive\n",
        "data_dir = '/content/drive/MyDrive/dataset'\n",
        "\n",
        "# Define ImageDataGenerators for training, validation, and test sets\n",
        "# Data augmentation for training: rotation, zoom, and flip\n",
        "# Train/Validation split: 80% train, 20% validation of 80% split\n",
        "train_datagen = ImageDataGenerator(\n",
        "    rescale=1./255,\n",
        "    shear_range=0.2,\n",
        "    zoom_range=0.2,\n",
        "    horizontal_flip=True,\n",
        "    validation_split=0.15  # 85% for training, 15% for validation of the total 90%\n",
        ")\n",
        "\n",
        "# Test set does not require augmentation, only rescaling\n",
        "test_datagen = ImageDataGenerator(rescale=1./255)"
      ]
    },
    {
      "cell_type": "code",
      "execution_count": 3,
      "metadata": {
        "colab": {
          "base_uri": "https://localhost:8080/"
        },
        "id": "oUCFvhMPfEbv",
        "outputId": "4bf53aea-47c8-41ff-d441-1156a9a28743"
      },
      "outputs": [
        {
          "output_type": "stream",
          "name": "stdout",
          "text": [
            "Found 3586 images belonging to 4 classes.\n",
            "Found 631 images belonging to 4 classes.\n",
            "Found 4217 images belonging to 4 classes.\n"
          ]
        }
      ],
      "source": [
        "# Training generator (70% of the data)\n",
        "train_generator = train_datagen.flow_from_directory(\n",
        "    data_dir,\n",
        "    target_size=(224, 224),\n",
        "    batch_size=32,\n",
        "    class_mode='categorical',\n",
        "    subset='training'  # Training data (50% of 40%)\n",
        ")\n",
        "\n",
        "# Validation generator (15% of the data)\n",
        "validation_generator = train_datagen.flow_from_directory(\n",
        "    data_dir,\n",
        "    target_size=(224, 224),\n",
        "    batch_size=32,\n",
        "    class_mode='categorical',\n",
        "    subset='validation'  # Validation data (50% of 20%)\n",
        ")\n",
        "\n",
        "# Test generator (15% of the data)\n",
        "test_generator = test_datagen.flow_from_directory(\n",
        "    data_dir,\n",
        "    target_size=(224, 224),\n",
        "    batch_size=32,\n",
        "    class_mode='categorical',\n",
        "    shuffle=False  # No shuffling for test data\n",
        ")"
      ]
    },
    {
      "cell_type": "code",
      "execution_count": 4,
      "metadata": {
        "colab": {
          "base_uri": "https://localhost:8080/"
        },
        "id": "PcEO6s3dfJCk",
        "outputId": "bcceccf2-a56e-4348-e31c-de78943091d0"
      },
      "outputs": [
        {
          "output_type": "stream",
          "name": "stdout",
          "text": [
            "Downloading data from https://storage.googleapis.com/tensorflow/keras-applications/resnet/resnet50_weights_tf_dim_ordering_tf_kernels_notop.h5\n",
            "\u001b[1m94765736/94765736\u001b[0m \u001b[32m━━━━━━━━━━━━━━━━━━━━\u001b[0m\u001b[37m\u001b[0m \u001b[1m0s\u001b[0m 0us/step\n"
          ]
        }
      ],
      "source": [
        "# Load ResNet50 model pre-trained on ImageNet, without the top layer (include_top=False)\n",
        "base_model = ResNet50(weights='imagenet', include_top=False, input_shape=(224, 224, 3))\n",
        "\n",
        "# Add custom top layers for our 4-class problem\n",
        "x = base_model.output\n",
        "x = GlobalAveragePooling2D()(x)  # Global average pooling instead of flattening\n",
        "x = Dense(1024, activation='relu')(x)  # Fully connected layer with ReLU activation\n",
        "predictions = Dense(4, activation='softmax')(x)  # Output layer for 4 classes with softmax\n",
        "\n",
        "# Create the final model by combining the base and custom layers\n",
        "model = Model(inputs=base_model.input, outputs=predictions)"
      ]
    },
    {
      "cell_type": "code",
      "execution_count": 5,
      "metadata": {
        "id": "io3komrLfOUS"
      },
      "outputs": [],
      "source": [
        "# Compile the model with Adam optimizer and a low learning rate for transfer learning\n",
        "model.compile(optimizer=Adam(learning_rate=0.0001),  # Low learning rate for fine-tuning\n",
        "              loss='categorical_crossentropy',  # Loss function for multi-class classification\n",
        "              metrics=['accuracy'])  # Track accuracy as the metric\n"
      ]
    },
    {
      "cell_type": "code",
      "execution_count": 6,
      "metadata": {
        "colab": {
          "base_uri": "https://localhost:8080/"
        },
        "id": "vURyJaPPfQ7C",
        "outputId": "37a9cfe9-cd7a-42b2-8580-ecd4ca39f40d"
      },
      "outputs": [
        {
          "output_type": "stream",
          "name": "stdout",
          "text": [
            "Epoch 1/10\n"
          ]
        },
        {
          "output_type": "stream",
          "name": "stderr",
          "text": [
            "/usr/local/lib/python3.10/dist-packages/keras/src/trainers/data_adapters/py_dataset_adapter.py:121: UserWarning: Your `PyDataset` class should call `super().__init__(**kwargs)` in its constructor. `**kwargs` can include `workers`, `use_multiprocessing`, `max_queue_size`. Do not pass these arguments to `fit()`, as they will be ignored.\n",
            "  self._warn_if_super_not_called()\n"
          ]
        },
        {
          "output_type": "stream",
          "name": "stdout",
          "text": [
            "\u001b[1m112/112\u001b[0m \u001b[32m━━━━━━━━━━━━━━━━━━━━\u001b[0m\u001b[37m\u001b[0m \u001b[1m2245s\u001b[0m 19s/step - accuracy: 0.7542 - loss: 0.6301 - val_accuracy: 0.2451 - val_loss: 2.7772\n",
            "Epoch 2/10\n",
            "\u001b[1m  1/112\u001b[0m \u001b[37m━━━━━━━━━━━━━━━━━━━━\u001b[0m \u001b[1m31:41\u001b[0m 17s/step - accuracy: 0.9688 - loss: 0.0998"
          ]
        },
        {
          "output_type": "stream",
          "name": "stderr",
          "text": [
            "/usr/lib/python3.10/contextlib.py:153: UserWarning: Your input ran out of data; interrupting training. Make sure that your dataset or generator can generate at least `steps_per_epoch * epochs` batches. You may need to use the `.repeat()` function when building your dataset.\n",
            "  self.gen.throw(typ, value, traceback)\n"
          ]
        },
        {
          "output_type": "stream",
          "name": "stdout",
          "text": [
            "\b\b\b\b\b\b\b\b\b\b\b\b\b\b\b\b\b\b\b\b\b\b\b\b\b\b\b\b\b\b\b\b\b\b\b\b\b\b\b\b\b\b\b\b\b\b\b\b\b\b\b\b\b\b\b\b\b\b\b\b\b\b\b\b\b\b\b\b\b\b\b\b\b\b\b\b\b\r\u001b[1m112/112\u001b[0m \u001b[32m━━━━━━━━━━━━━━━━━━━━\u001b[0m\u001b[37m\u001b[0m \u001b[1m20s\u001b[0m 24ms/step - accuracy: 0.9688 - loss: 0.0998 - val_accuracy: 0.2609 - val_loss: 2.4025\n",
            "Epoch 3/10\n",
            "\u001b[1m112/112\u001b[0m \u001b[32m━━━━━━━━━━━━━━━━━━━━\u001b[0m\u001b[37m\u001b[0m \u001b[1m2089s\u001b[0m 18s/step - accuracy: 0.9282 - loss: 0.1996 - val_accuracy: 0.2566 - val_loss: 1.5915\n",
            "Epoch 4/10\n",
            "\u001b[1m112/112\u001b[0m \u001b[32m━━━━━━━━━━━━━━━━━━━━\u001b[0m\u001b[37m\u001b[0m \u001b[1m20s\u001b[0m 24ms/step - accuracy: 0.9062 - loss: 0.2720 - val_accuracy: 0.3478 - val_loss: 1.5462\n",
            "Epoch 5/10\n",
            "\u001b[1m112/112\u001b[0m \u001b[32m━━━━━━━━━━━━━━━━━━━━\u001b[0m\u001b[37m\u001b[0m \u001b[1m2063s\u001b[0m 18s/step - accuracy: 0.9386 - loss: 0.1748 - val_accuracy: 0.2434 - val_loss: 6.5281\n",
            "Epoch 6/10\n",
            "\u001b[1m112/112\u001b[0m \u001b[32m━━━━━━━━━━━━━━━━━━━━\u001b[0m\u001b[37m\u001b[0m \u001b[1m19s\u001b[0m 22ms/step - accuracy: 0.9062 - loss: 0.1341 - val_accuracy: 0.3043 - val_loss: 5.6976\n",
            "Epoch 7/10\n",
            "\u001b[1m112/112\u001b[0m \u001b[32m━━━━━━━━━━━━━━━━━━━━\u001b[0m\u001b[37m\u001b[0m \u001b[1m2032s\u001b[0m 18s/step - accuracy: 0.9465 - loss: 0.1418 - val_accuracy: 0.2484 - val_loss: 3.4216\n",
            "Epoch 8/10\n",
            "\u001b[1m112/112\u001b[0m \u001b[32m━━━━━━━━━━━━━━━━━━━━\u001b[0m\u001b[37m\u001b[0m \u001b[1m19s\u001b[0m 24ms/step - accuracy: 0.9375 - loss: 0.1527 - val_accuracy: 0.1739 - val_loss: 3.6775\n",
            "Epoch 9/10\n",
            "\u001b[1m112/112\u001b[0m \u001b[32m━━━━━━━━━━━━━━━━━━━━\u001b[0m\u001b[37m\u001b[0m \u001b[1m2019s\u001b[0m 18s/step - accuracy: 0.9413 - loss: 0.1734 - val_accuracy: 0.2401 - val_loss: 4.0710\n",
            "Epoch 10/10\n",
            "\u001b[1m112/112\u001b[0m \u001b[32m━━━━━━━━━━━━━━━━━━━━\u001b[0m\u001b[37m\u001b[0m \u001b[1m21s\u001b[0m 22ms/step - accuracy: 0.9688 - loss: 0.0741 - val_accuracy: 0.3913 - val_loss: 3.2484\n"
          ]
        }
      ],
      "source": [
        "# Train the model\n",
        "history = model.fit(\n",
        "    train_generator,  # Training data generator\n",
        "    epochs=10,  # Number of epochs\n",
        "    validation_data=validation_generator,  # Validation data generator\n",
        "    steps_per_epoch=train_generator.samples // train_generator.batch_size,  # Steps per epoch\n",
        "    validation_steps=validation_generator.samples // validation_generator.batch_size,  # Validation steps\n",
        ")"
      ]
    },
    {
      "cell_type": "code",
      "execution_count": 7,
      "metadata": {
        "id": "PaplP9bwFezo",
        "colab": {
          "base_uri": "https://localhost:8080/"
        },
        "outputId": "5556e7c1-c01d-4fd3-9b22-f9a05ef60107"
      },
      "outputs": [
        {
          "output_type": "stream",
          "name": "stdout",
          "text": [
            "\u001b[1m131/131\u001b[0m \u001b[32m━━━━━━━━━━━━━━━━━━━━\u001b[0m\u001b[37m\u001b[0m \u001b[1m503s\u001b[0m 4s/step - accuracy: 0.5890 - loss: 2.0015\n",
            "Test Accuracy: 24.88%\n"
          ]
        }
      ],
      "source": [
        "# Evaluate the model on the test set and print test accuracy\n",
        "test_loss, test_accuracy = model.evaluate(test_generator, steps=test_generator.samples // test_generator.batch_size)\n",
        "print(f'Test Accuracy: {test_accuracy * 100:.2f}%')"
      ]
    },
    {
      "cell_type": "code",
      "execution_count": 8,
      "metadata": {
        "id": "r4G97v-bK2Vc",
        "colab": {
          "base_uri": "https://localhost:8080/",
          "height": 564
        },
        "outputId": "a7a304d5-faf6-4fe9-c5b8-dacebf8b552d"
      },
      "outputs": [
        {
          "output_type": "display_data",
          "data": {
            "text/plain": [
              "<Figure size 1200x600 with 2 Axes>"
            ],
            "image/png": "[encoded data removed]"
          },
          "metadata": {}
        }
      ],
      "source": [
        "# Plot training and validation accuracy and loss curves\n",
        "plt.figure(figsize=(12, 6))\n",
        "\n",
        "# Plot training and validation accuracy\n",
        "plt.subplot(1, 2, 1)\n",
        "plt.plot(history.history['accuracy'], label='Train Accuracy')\n",
        "plt.plot(history.history['val_accuracy'], label='Validation Accuracy')\n",
        "plt.title('Model Accuracy')\n",
        "plt.xlabel('Epochs')\n",
        "plt.ylabel('Accuracy')\n",
        "plt.legend()\n",
        "\n",
        "# Plot training and validation loss\n",
        "plt.subplot(1, 2, 2)\n",
        "plt.plot(history.history['loss'], label='Train Loss')\n",
        "plt.plot(history.history['val_loss'], label='Validation Loss')\n",
        "plt.title('Model Loss')\n",
        "plt.xlabel('Epochs')\n",
        "plt.ylabel('Loss')\n",
        "plt.legend()\n",
        "\n",
        "plt.show()"
      ]
    },
    {
      "cell_type": "code",
      "execution_count": 9,
      "metadata": {
        "id": "f1FrYKnTgvDO",
        "colab": {
          "base_uri": "https://localhost:8080/"
        },
        "outputId": "17b2600f-79fc-47fb-eec8-b18d1690c458"
      },
      "outputs": [
        {
          "output_type": "stream",
          "name": "stdout",
          "text": [
            "\u001b[1m132/132\u001b[0m \u001b[32m━━━━━━━━━━━━━━━━━━━━\u001b[0m\u001b[37m\u001b[0m \u001b[1m508s\u001b[0m 4s/step\n",
            "Classification Report\n",
            "                      precision    recall  f1-score   support\n",
            "\n",
            "            cataract       0.25      1.00      0.40      1038\n",
            "diabetic_retinopathy       1.00      0.00      0.01      1098\n",
            "            glaucoma       0.00      0.00      0.00      1007\n",
            "              normal       0.00      0.00      0.00      1074\n",
            "\n",
            "            accuracy                           0.25      4217\n",
            "           macro avg       0.31      0.25      0.10      4217\n",
            "        weighted avg       0.32      0.25      0.10      4217\n",
            "\n",
            "Confusion Matrix\n",
            "[[1038    0    0    0]\n",
            " [1093    5    0    0]\n",
            " [1007    0    0    0]\n",
            " [1074    0    0    0]]\n"
          ]
        },
        {
          "output_type": "stream",
          "name": "stderr",
          "text": [
            "/usr/local/lib/python3.10/dist-packages/sklearn/metrics/_classification.py:1471: UndefinedMetricWarning: Precision and F-score are ill-defined and being set to 0.0 in labels with no predicted samples. Use `zero_division` parameter to control this behavior.\n",
            "  _warn_prf(average, modifier, msg_start, len(result))\n",
            "/usr/local/lib/python3.10/dist-packages/sklearn/metrics/_classification.py:1471: UndefinedMetricWarning: Precision and F-score are ill-defined and being set to 0.0 in labels with no predicted samples. Use `zero_division` parameter to control this behavior.\n",
            "  _warn_prf(average, modifier, msg_start, len(result))\n",
            "/usr/local/lib/python3.10/dist-packages/sklearn/metrics/_classification.py:1471: UndefinedMetricWarning: Precision and F-score are ill-defined and being set to 0.0 in labels with no predicted samples. Use `zero_division` parameter to control this behavior.\n",
            "  _warn_prf(average, modifier, msg_start, len(result))\n"
          ]
        }
      ],
      "source": [
        "# Predict on test data\n",
        "Y_pred = model.predict(test_generator, steps=test_generator.samples // test_generator.batch_size + 1)\n",
        "y_pred = np.argmax(Y_pred, axis=1)  # Convert predicted probabilities to class labels\n",
        "\n",
        "# Get true labels\n",
        "true_classes = test_generator.classes\n",
        "class_labels = list(test_generator.class_indices.keys())  # Get class names\n",
        "\n",
        "# Classification report\n",
        "print('Classification Report')\n",
        "print(classification_report(true_classes, y_pred, target_names=class_labels))\n",
        "\n",
        "# Confusion matrix\n",
        "print('Confusion Matrix')\n",
        "print(confusion_matrix(true_classes, y_pred))\n"
      ]
    },
    {
      "cell_type": "code",
      "execution_count": 10,
      "metadata": {
        "id": "ptY1WstDgxXy",
        "colab": {
          "base_uri": "https://localhost:8080/"
        },
        "outputId": "037e7980-540c-4110-a6f9-1771861fc601"
      },
      "outputs": [
        {
          "output_type": "stream",
          "name": "stdout",
          "text": [
            "\u001b[1m132/132\u001b[0m \u001b[32m━━━━━━━━━━━━━━━━━━━━\u001b[0m\u001b[37m\u001b[0m \u001b[1m508s\u001b[0m 4s/step\n",
            "Classification Report:\n",
            "                      precision    recall  f1-score   support\n",
            "\n",
            "            cataract       0.25      1.00      0.40      1038\n",
            "diabetic_retinopathy       1.00      0.00      0.01      1098\n",
            "            glaucoma       0.00      0.00      0.00      1007\n",
            "              normal       0.00      0.00      0.00      1074\n",
            "\n",
            "            accuracy                           0.25      4217\n",
            "           macro avg       0.31      0.25      0.10      4217\n",
            "        weighted avg       0.32      0.25      0.10      4217\n",
            "\n",
            "Confusion Matrix:\n",
            "[[1038    0    0    0]\n",
            " [1093    5    0    0]\n",
            " [1007    0    0    0]\n",
            " [1074    0    0    0]]\n"
          ]
        },
        {
          "output_type": "stream",
          "name": "stderr",
          "text": [
            "/usr/local/lib/python3.10/dist-packages/sklearn/metrics/_classification.py:1471: UndefinedMetricWarning: Precision and F-score are ill-defined and being set to 0.0 in labels with no predicted samples. Use `zero_division` parameter to control this behavior.\n",
            "  _warn_prf(average, modifier, msg_start, len(result))\n",
            "/usr/local/lib/python3.10/dist-packages/sklearn/metrics/_classification.py:1471: UndefinedMetricWarning: Precision and F-score are ill-defined and being set to 0.0 in labels with no predicted samples. Use `zero_division` parameter to control this behavior.\n",
            "  _warn_prf(average, modifier, msg_start, len(result))\n",
            "/usr/local/lib/python3.10/dist-packages/sklearn/metrics/_classification.py:1471: UndefinedMetricWarning: Precision and F-score are ill-defined and being set to 0.0 in labels with no predicted samples. Use `zero_division` parameter to control this behavior.\n",
            "  _warn_prf(average, modifier, msg_start, len(result))\n"
          ]
        }
      ],
      "source": [
        "from sklearn.metrics import classification_report, confusion_matrix\n",
        "\n",
        "# Predict on the test data\n",
        "Y_pred = model.predict(test_generator, steps=test_generator.samples // test_generator.batch_size + 1)\n",
        "y_pred = np.argmax(Y_pred, axis=1)  # Convert predicted probabilities to class labels\n",
        "\n",
        "# Get true labels\n",
        "true_classes = test_generator.classes\n",
        "class_labels = list(test_generator.class_indices.keys())  # Get class names\n",
        "\n",
        "# Generate classification report for Precision, Recall, F1-score, and Support\n",
        "print('Classification Report:')\n",
        "print(classification_report(true_classes, y_pred, target_names=class_labels))\n",
        "\n",
        "# Generate confusion matrix for additional insights\n",
        "print('Confusion Matrix:')\n",
        "print(confusion_matrix(true_classes, y_pred))\n"
      ]
    }
  ],
  "metadata": {
    "colab": {
      "provenance": []
    },
    "kernelspec": {
      "display_name": "Python 3",
      "name": "python3"
    },
    "language_info": {
      "name": "python"
    }
  },
  "nbformat": 4,
  "nbformat_minor": 0
}