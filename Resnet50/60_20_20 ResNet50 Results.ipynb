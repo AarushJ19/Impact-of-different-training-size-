{
  "nbformat": 4,
  "nbformat_minor": 0,
  "metadata": {
    "colab": {
      "provenance": [],
      "gpuType": "T4"
    },
    "kernelspec": {
      "name": "python3",
      "display_name": "Python 3"
    },
    "language_info": {
      "name": "python"
    },
    "accelerator": "GPU"
  },
  "cells": [
    {
      "cell_type": "code",
      "execution_count": 4,
      "metadata": {
        "id": "BBKQ7umVE6Tr",
        "colab": {
          "base_uri": "https://localhost:8080/"
        },
        "outputId": "28ed3a80-ff5b-4a61-c921-01304f5a29fb"
      },
      "outputs": [
        {
          "output_type": "stream",
          "name": "stdout",
          "text": [
            "Mounted at /content/drive\n"
          ]
        }
      ],
      "source": [
        "# Mount Google Drive to access the dataset stored in 'eye_diseases' folder\n",
        "from google.colab import drive\n",
        "drive.mount('/content/drive')\n",
        "\n",
        "# Import necessary libraries\n",
        "import tensorflow as tf\n",
        "from tensorflow.keras.preprocessing.image import ImageDataGenerator\n",
        "from tensorflow.keras.applications import ResNet50\n",
        "from tensorflow.keras.layers import Dense, GlobalAveragePooling2D\n",
        "from tensorflow.keras.models import Model\n",
        "from tensorflow.keras.optimizers import Adam\n",
        "from tensorflow.keras.callbacks import EarlyStopping\n",
        "import matplotlib.pyplot as plt\n",
        "from sklearn.metrics import classification_report, confusion_matrix\n",
        "import numpy as np\n"
      ]
    },
    {
      "cell_type": "code",
      "source": [
        "# Path to the dataset in Google Drive\n",
        "data_dir = '/content/drive/MyDrive/NN/dataset'\n",
        "\n",
        "# Define ImageDataGenerators for training, validation, and test sets\n",
        "# Data augmentation for training: rotation, zoom, and flip\n",
        "# Train/Validation split: 80% train, 20% validation of 80% split\n",
        "train_datagen = ImageDataGenerator(\n",
        "    rescale=1./255,\n",
        "    shear_range=0.2,\n",
        "    zoom_range=0.2,\n",
        "    horizontal_flip=True,\n",
        "    validation_split=0.2  # 80% for training, 20% for validation of the total 90%\n",
        ")\n",
        "\n",
        "# Test set does not require augmentation, only rescaling\n",
        "test_datagen = ImageDataGenerator(rescale=1./255)"
      ],
      "metadata": {
        "id": "tbF2kMyjFK8q"
      },
      "execution_count": 6,
      "outputs": []
    },
    {
      "cell_type": "code",
      "source": [
        "# Training generator (60% of the data)\n",
        "train_generator = train_datagen.flow_from_directory(\n",
        "    data_dir,\n",
        "    target_size=(224, 224),\n",
        "    batch_size=32,\n",
        "    class_mode='categorical',\n",
        "    subset='training'  # Training data (50% of 40%)\n",
        ")\n",
        "\n",
        "# Validation generator (20% of the data)\n",
        "validation_generator = train_datagen.flow_from_directory(\n",
        "    data_dir,\n",
        "    target_size=(224, 224),\n",
        "    batch_size=32,\n",
        "    class_mode='categorical',\n",
        "    subset='validation'  # Validation data (50% of 20%)\n",
        ")\n",
        "\n",
        "# Test generator (20% of the data)\n",
        "test_generator = test_datagen.flow_from_directory(\n",
        "    data_dir,\n",
        "    target_size=(224, 224),\n",
        "    batch_size=32,\n",
        "    class_mode='categorical',\n",
        "    shuffle=False  # No shuffling for test data\n",
        ")"
      ],
      "metadata": {
        "id": "Yg-7I2x-FM89",
        "colab": {
          "base_uri": "https://localhost:8080/"
        },
        "outputId": "744fb7b9-82d3-42f9-a19a-fb51a31c1ec3"
      },
      "execution_count": 7,
      "outputs": [
        {
          "output_type": "stream",
          "name": "stdout",
          "text": [
            "Found 3376 images belonging to 4 classes.\n",
            "Found 841 images belonging to 4 classes.\n",
            "Found 4217 images belonging to 4 classes.\n"
          ]
        }
      ]
    },
    {
      "cell_type": "code",
      "source": [
        "# Load ResNet50 model pre-trained on ImageNet, without the top layer (include_top=False)\n",
        "base_model = ResNet50(weights='imagenet', include_top=False, input_shape=(224, 224, 3))\n",
        "\n",
        "# Add custom top layers for our 4-class problem\n",
        "x = base_model.output\n",
        "x = GlobalAveragePooling2D()(x)  # Global average pooling instead of flattening\n",
        "x = Dense(1024, activation='relu')(x)  # Fully connected layer with ReLU activation\n",
        "predictions = Dense(4, activation='softmax')(x)  # Output layer for 4 classes with softmax\n",
        "\n",
        "# Create the final model by combining the base and custom layers\n",
        "model = Model(inputs=base_model.input, outputs=predictions)\n"
      ],
      "metadata": {
        "id": "tknVpLgkFOe5",
        "colab": {
          "base_uri": "https://localhost:8080/"
        },
        "outputId": "c658ffc2-1dfb-49cc-8318-46e429f0b45a"
      },
      "execution_count": 8,
      "outputs": [
        {
          "output_type": "stream",
          "name": "stdout",
          "text": [
            "Downloading data from https://storage.googleapis.com/tensorflow/keras-applications/resnet/resnet50_weights_tf_dim_ordering_tf_kernels_notop.h5\n",
            "\u001b[1m94765736/94765736\u001b[0m \u001b[32m━━━━━━━━━━━━━━━━━━━━\u001b[0m\u001b[37m\u001b[0m \u001b[1m0s\u001b[0m 0us/step\n"
          ]
        }
      ]
    },
    {
      "cell_type": "code",
      "source": [
        "# Compile the model with Adam optimizer and a low learning rate for transfer learning\n",
        "model.compile(optimizer=Adam(learning_rate=0.0001),  # Low learning rate for fine-tuning\n",
        "              loss='categorical_crossentropy',  # Loss function for multi-class classification\n",
        "              metrics=['accuracy'])  # Track accuracy as the metric\n"
      ],
      "metadata": {
        "id": "N_MiwpXAFQBX"
      },
      "execution_count": 9,
      "outputs": []
    },
    {
      "cell_type": "code",
      "source": [
        "# Train the model\n",
        "history = model.fit(\n",
        "    train_generator,  # Training data generator\n",
        "    epochs=10,  # Number of epochs\n",
        "    validation_data=validation_generator,  # Validation data generator\n",
        "    steps_per_epoch=train_generator.samples // train_generator.batch_size,  # Steps per epoch\n",
        "    validation_steps=validation_generator.samples // validation_generator.batch_size,  # Validation steps\n",
        ")"
      ],
      "metadata": {
        "colab": {
          "base_uri": "https://localhost:8080/"
        },
        "id": "vMfIUvH8FRZ8",
        "outputId": "920bc052-0c00-45eb-e482-110a34a19fe3"
      },
      "execution_count": 10,
      "outputs": [
        {
          "metadata": {
            "tags": null
          },
          "name": "stdout",
          "output_type": "stream",
          "text": [
            "Epoch 1/10\n"
          ]
        },
        {
          "metadata": {
            "tags": null
          },
          "name": "stderr",
          "output_type": "stream",
          "text": [
            "/usr/local/lib/python3.10/dist-packages/keras/src/trainers/data_adapters/py_dataset_adapter.py:121: UserWarning: Your `PyDataset` class should call `super().__init__(**kwargs)` in its constructor. `**kwargs` can include `workers`, `use_multiprocessing`, `max_queue_size`. Do not pass these arguments to `fit()`, as they will be ignored.\n",
            "  self._warn_if_super_not_called()\n"
          ]
        },
        {
          "output_type": "stream",
          "name": "stdout",
          "text": [
            "\u001b[1m105/105\u001b[0m \u001b[32m━━━━━━━━━━━━━━━━━━━━\u001b[0m\u001b[37m\u001b[0m \u001b[1m1371s\u001b[0m 12s/step - accuracy: 0.7498 - loss: 0.6250 - val_accuracy: 0.2476 - val_loss: 2.4841\n",
            "Epoch 2/10\n",
            "\u001b[1m  1/105\u001b[0m \u001b[37m━━━━━━━━━━━━━━━━━━━━\u001b[0m \u001b[1m29s\u001b[0m 288ms/step - accuracy: 0.9062 - loss: 0.2950"
          ]
        },
        {
          "output_type": "stream",
          "name": "stderr",
          "text": [
            "/usr/lib/python3.10/contextlib.py:153: UserWarning: Your input ran out of data; interrupting training. Make sure that your dataset or generator can generate at least `steps_per_epoch * epochs` batches. You may need to use the `.repeat()` function when building your dataset.\n",
            "  self.gen.throw(typ, value, traceback)\n"
          ]
        },
        {
          "output_type": "stream",
          "name": "stdout",
          "text": [
            "\b\b\b\b\b\b\b\b\b\b\b\b\b\b\b\b\b\b\b\b\b\b\b\b\b\b\b\b\b\b\b\b\b\b\b\b\b\b\b\b\b\b\b\b\b\b\b\b\b\b\b\b\b\b\b\b\b\b\b\b\b\b\b\b\b\b\b\b\b\b\b\b\b\b\b\b\b\r\u001b[1m105/105\u001b[0m \u001b[32m━━━━━━━━━━━━━━━━━━━━\u001b[0m\u001b[37m\u001b[0m \u001b[1m5s\u001b[0m 43ms/step - accuracy: 0.9062 - loss: 0.2950 - val_accuracy: 0.1111 - val_loss: 2.5945\n",
            "Epoch 3/10\n",
            "\u001b[1m105/105\u001b[0m \u001b[32m━━━━━━━━━━━━━━━━━━━━\u001b[0m\u001b[37m\u001b[0m \u001b[1m104s\u001b[0m 904ms/step - accuracy: 0.9180 - loss: 0.2227 - val_accuracy: 0.2488 - val_loss: 2.6859\n",
            "Epoch 4/10\n",
            "\u001b[1m105/105\u001b[0m \u001b[32m━━━━━━━━━━━━━━━━━━━━\u001b[0m\u001b[37m\u001b[0m \u001b[1m6s\u001b[0m 52ms/step - accuracy: 0.9375 - loss: 0.1696 - val_accuracy: 0.0000e+00 - val_loss: 3.4454\n",
            "Epoch 5/10\n",
            "\u001b[1m105/105\u001b[0m \u001b[32m━━━━━━━━━━━━━━━━━━━━\u001b[0m\u001b[37m\u001b[0m \u001b[1m102s\u001b[0m 932ms/step - accuracy: 0.9442 - loss: 0.1475 - val_accuracy: 0.2488 - val_loss: 2.5864\n",
            "Epoch 6/10\n",
            "\u001b[1m105/105\u001b[0m \u001b[32m━━━━━━━━━━━━━━━━━━━━\u001b[0m\u001b[37m\u001b[0m \u001b[1m0s\u001b[0m 579us/step - accuracy: 0.9375 - loss: 0.2337 - val_accuracy: 0.3333 - val_loss: 2.7545\n",
            "Epoch 7/10\n",
            "\u001b[1m105/105\u001b[0m \u001b[32m━━━━━━━━━━━━━━━━━━━━\u001b[0m\u001b[37m\u001b[0m \u001b[1m137s\u001b[0m 879ms/step - accuracy: 0.9590 - loss: 0.1265 - val_accuracy: 0.2488 - val_loss: 2.4278\n",
            "Epoch 8/10\n",
            "\u001b[1m105/105\u001b[0m \u001b[32m━━━━━━━━━━━━━━━━━━━━\u001b[0m\u001b[37m\u001b[0m \u001b[1m0s\u001b[0m 563us/step - accuracy: 1.0000 - loss: 0.0352 - val_accuracy: 0.0000e+00 - val_loss: 2.8951\n",
            "Epoch 9/10\n",
            "\u001b[1m105/105\u001b[0m \u001b[32m━━━━━━━━━━━━━━━━━━━━\u001b[0m\u001b[37m\u001b[0m \u001b[1m102s\u001b[0m 913ms/step - accuracy: 0.9607 - loss: 0.1208 - val_accuracy: 0.3786 - val_loss: 4.6161\n",
            "Epoch 10/10\n",
            "\u001b[1m105/105\u001b[0m \u001b[32m━━━━━━━━━━━━━━━━━━━━\u001b[0m\u001b[37m\u001b[0m \u001b[1m0s\u001b[0m 548us/step - accuracy: 0.9375 - loss: 0.1130 - val_accuracy: 0.3333 - val_loss: 6.9773\n"
          ]
        }
      ]
    },
    {
      "cell_type": "code",
      "source": [
        "# Evaluate the model on the test set and print test accuracy\n",
        "test_loss, test_accuracy = model.evaluate(test_generator, steps=test_generator.samples // test_generator.batch_size)\n",
        "print(f'Test Accuracy: {test_accuracy * 100:.2f}%')\n"
      ],
      "metadata": {
        "id": "PO1CLxMwFSwv",
        "colab": {
          "base_uri": "https://localhost:8080/"
        },
        "outputId": "3b3432e1-ed4d-4ac7-ee19-c8476e75988f"
      },
      "execution_count": 11,
      "outputs": [
        {
          "output_type": "stream",
          "name": "stdout",
          "text": [
            "\u001b[1m131/131\u001b[0m \u001b[32m━━━━━━━━━━━━━━━━━━━━\u001b[0m\u001b[37m\u001b[0m \u001b[1m45s\u001b[0m 347ms/step - accuracy: 0.7186 - loss: 2.0432\n",
            "Test Accuracy: 43.89%\n"
          ]
        }
      ]
    },
    {
      "cell_type": "code",
      "source": [
        "# Plot training and validation accuracy and loss curves\n",
        "plt.figure(figsize=(12, 6))\n",
        "\n",
        "# Plot training and validation accuracy\n",
        "plt.subplot(1, 2, 1)\n",
        "plt.plot(history.history['accuracy'], label='Train Accuracy')\n",
        "plt.plot(history.history['val_accuracy'], label='Validation Accuracy')\n",
        "plt.title('Model Accuracy')\n",
        "plt.xlabel('Epochs')\n",
        "plt.ylabel('Accuracy')\n",
        "plt.legend()\n",
        "\n",
        "# Plot training and validation loss\n",
        "plt.subplot(1, 2, 2)\n",
        "plt.plot(history.history['loss'], label='Train Loss')\n",
        "plt.plot(history.history['val_loss'], label='Validation Loss')\n",
        "plt.title('Model Loss')\n",
        "plt.xlabel('Epochs')\n",
        "plt.ylabel('Loss')\n",
        "plt.legend()\n",
        "\n",
        "plt.show()\n"
      ],
      "metadata": {
        "id": "HzsAjNTfFUJd"
      },
      "execution_count": null,
      "outputs": []
    },
    {
      "cell_type": "code",
      "source": [
        "# Predict on test data\n",
        "Y_pred = model.predict(test_generator, steps=test_generator.samples // test_generator.batch_size + 1)\n",
        "y_pred = np.argmax(Y_pred, axis=1)  # Convert predicted probabilities to class labels\n",
        "\n",
        "# Get true labels\n",
        "true_classes = test_generator.classes\n",
        "class_labels = list(test_generator.class_indices.keys())  # Get class names\n",
        "\n",
        "# Classification report\n",
        "print('Classification Report')\n",
        "print(classification_report(true_classes, y_pred, target_names=class_labels))\n",
        "\n",
        "# Confusion matrix\n",
        "print('Confusion Matrix')\n",
        "print(confusion_matrix(true_classes, y_pred))\n"
      ],
      "metadata": {
        "id": "kdbsLqUWFVvE",
        "colab": {
          "base_uri": "https://localhost:8080/"
        },
        "outputId": "1dd57a16-5064-481e-a200-27f66d4eeace"
      },
      "execution_count": 13,
      "outputs": [
        {
          "output_type": "stream",
          "name": "stdout",
          "text": [
            "\u001b[1m132/132\u001b[0m \u001b[32m━━━━━━━━━━━━━━━━━━━━\u001b[0m\u001b[37m\u001b[0m \u001b[1m54s\u001b[0m 377ms/step\n",
            "Classification Report\n",
            "                      precision    recall  f1-score   support\n",
            "\n",
            "            cataract       0.39      0.87      0.54      1038\n",
            "diabetic_retinopathy       0.50      0.85      0.63      1098\n",
            "            glaucoma       0.00      0.00      0.00      1007\n",
            "              normal       0.00      0.00      0.00      1074\n",
            "\n",
            "            accuracy                           0.44      4217\n",
            "           macro avg       0.22      0.43      0.29      4217\n",
            "        weighted avg       0.22      0.44      0.30      4217\n",
            "\n",
            "Confusion Matrix\n",
            "[[905 133   0   0]\n",
            " [163 935   0   0]\n",
            " [595 412   0   0]\n",
            " [673 401   0   0]]\n"
          ]
        },
        {
          "output_type": "stream",
          "name": "stderr",
          "text": [
            "/usr/local/lib/python3.10/dist-packages/sklearn/metrics/_classification.py:1471: UndefinedMetricWarning: Precision and F-score are ill-defined and being set to 0.0 in labels with no predicted samples. Use `zero_division` parameter to control this behavior.\n",
            "  _warn_prf(average, modifier, msg_start, len(result))\n",
            "/usr/local/lib/python3.10/dist-packages/sklearn/metrics/_classification.py:1471: UndefinedMetricWarning: Precision and F-score are ill-defined and being set to 0.0 in labels with no predicted samples. Use `zero_division` parameter to control this behavior.\n",
            "  _warn_prf(average, modifier, msg_start, len(result))\n",
            "/usr/local/lib/python3.10/dist-packages/sklearn/metrics/_classification.py:1471: UndefinedMetricWarning: Precision and F-score are ill-defined and being set to 0.0 in labels with no predicted samples. Use `zero_division` parameter to control this behavior.\n",
            "  _warn_prf(average, modifier, msg_start, len(result))\n"
          ]
        }
      ]
    }
  ]
}